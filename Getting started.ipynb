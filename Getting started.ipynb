{
 "cells": [
  {
   "cell_type": "code",
   "execution_count": 1,
   "id": "37296022-05f2-46eb-98e9-fada99455f58",
   "metadata": {
    "tags": []
   },
   "outputs": [
    {
     "name": "stdout",
     "output_type": "stream",
     "text": [
      "версияPython: 3.10.4 (tags/v3.10.4:9d38120, Mar 23 2022, 23:13:41) [MSC v.1929 64 bit (AMD64)]\n",
      "версияpandas: 1.5.3\n",
      "версияmatplotlib: 3.6.3\n",
      "версияNumPy: 1.22.3\n",
      "версияSciPy: 1.10.0\n",
      "версияIPython: 8.10.0\n",
      "версияscikit-learn: 1.2.1\n"
     ]
    }
   ],
   "source": [
    "import sys\n",
    "import pandas\n",
    "import matplotlib\n",
    "import numpy\n",
    "import scipy\n",
    "import IPython\n",
    "import sklearn\n",
    "\n",
    "print(\"версияPython: {}\".format(sys.version))\n",
    "print(\"версияpandas: {}\".format(pandas.__version__))\n",
    "print(\"версияmatplotlib: {}\".format(matplotlib.__version__))\n",
    "print(\"версияNumPy: {}\".format(numpy.__version__))\n",
    "print(\"версияSciPy: {}\".format(scipy.__version__))\n",
    "print(\"версияIPython: {}\".format(IPython.__version__))\n",
    "print(\"версияscikit-learn: {}\".format(sklearn.__version__))"
   ]
  }
 ],
 "metadata": {
  "kernelspec": {
   "display_name": "Python 3 (ipykernel)",
   "language": "python",
   "name": "python3"
  },
  "language_info": {
   "codemirror_mode": {
    "name": "ipython",
    "version": 3
   },
   "file_extension": ".py",
   "mimetype": "text/x-python",
   "name": "python",
   "nbconvert_exporter": "python",
   "pygments_lexer": "ipython3",
   "version": "3.10.4"
  }
 },
 "nbformat": 4,
 "nbformat_minor": 5
}
