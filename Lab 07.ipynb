{
 "cells": [
  {
   "cell_type": "code",
   "execution_count": 5,
   "id": "00e79404-8b86-43a4-b6ee-12dd9ec83972",
   "metadata": {
    "tags": []
   },
   "outputs": [
    {
     "name": "stdout",
     "output_type": "stream",
     "text": [
      "Частоты признаков:\n",
      "{0: array([0, 1, 0, 2]), 1: array([2, 0, 2, 1])}\n",
      "clf.predict:\n",
      "BernoulliNB 2:3   [0]\n",
      "MultinomialNB 2:3    [3]\n",
      "GaussianNB -0.8,-1  [1]\n",
      "GaussianNB -0.8,-1  [1]\n"
     ]
    }
   ],
   "source": [
    "# низкая обобщающая способность, но быстрее обучаются\n",
    "import mglearn\n",
    "import sklearn\n",
    "import matplotlib.pyplot as plt\n",
    "import numpy as np\n",
    "from sklearn.naive_bayes import BernoulliNB\n",
    "from sklearn.naive_bayes import MultinomialNB\n",
    "from sklearn.naive_bayes import GaussianNB\n",
    "\n",
    "# Классификатор BernoulliNB - бинарные\n",
    "# ненулевые частоты\n",
    "X = np.array([[0, 1, 0, 1], [1, 0, 1, 1], [0, 0, 0, 1], [1, 0, 1, 0]])\n",
    "Y = np.array([0, 1, 0, 1])\n",
    "counts = {}\n",
    "for label in np.unique(Y):\n",
    "    counts[label] = X[Y == label].sum(axis=0)\n",
    "print(\"Частоты признаков:\\n{}\".format(counts))\n",
    "clf = BernoulliNB()\n",
    "clf.fit(X, Y)\n",
    "print(\"clf.predict:\\n\" + str('BernoulliNB 2:3   ' + str(clf.predict(X[2:3]))))\n",
    "\n",
    "# Классификатор MultinomialNB - счетные или дискретные\n",
    "# среднее  значение каждого признака для каждого класса\n",
    "rng = np.random.RandomState(1)\n",
    "X = rng.randint(5, size=(6, 100))\n",
    "Y = np.array([1, 2, 3, 4, 5, 6])\n",
    "clf = MultinomialNB()\n",
    "clf.fit(X, Y)\n",
    "print('MultinomialNB 2:3    ' + str(clf.predict(X[2:3])))\n",
    "\n",
    "# Классификатор GaussianNB - непрерывные\n",
    "# записывает среднее значение и отклонение каждого признака\n",
    "X = np.array([[-1, -1], [-2, -1], [-3, -2], [1, 1], [2, 1], [3, 2]])\n",
    "Y = np.array([1, 1, 1, 2, 2, 2])\n",
    "clf = GaussianNB()\n",
    "clf.fit(X, Y)\n",
    "print('GaussianNB -0.8,-1  ' + str(clf.predict([[-0.8, -1]])))\n",
    "clf_pf = GaussianNB()\n",
    "clf_pf.partial_fit(X, Y, np.unique(Y))\n",
    "print('GaussianNB -0.8,-1  ' + str(clf_pf.predict([[-0.8, -1]])))"
   ]
  },
  {
   "cell_type": "code",
   "execution_count": null,
   "id": "1b023ef2-abd3-401a-a46f-001477f47107",
   "metadata": {},
   "outputs": [],
   "source": []
  }
 ],
 "metadata": {
  "kernelspec": {
   "display_name": "Python 3 (ipykernel)",
   "language": "python",
   "name": "python3"
  },
  "language_info": {
   "codemirror_mode": {
    "name": "ipython",
    "version": 3
   },
   "file_extension": ".py",
   "mimetype": "text/x-python",
   "name": "python",
   "nbconvert_exporter": "python",
   "pygments_lexer": "ipython3",
   "version": "3.10.4"
  }
 },
 "nbformat": 4,
 "nbformat_minor": 5
}
